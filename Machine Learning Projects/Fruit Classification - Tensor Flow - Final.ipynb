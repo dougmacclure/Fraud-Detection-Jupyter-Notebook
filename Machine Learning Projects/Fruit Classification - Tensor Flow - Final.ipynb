{
 "cells": [
  {
   "cell_type": "code",
   "execution_count": 1,
   "metadata": {},
   "outputs": [],
   "source": [
    "from keras_preprocessing.image import ImageDataGenerator\n",
    "datagen=ImageDataGenerator(rescale=1./255)"
   ]
  },
  {
   "cell_type": "code",
   "execution_count": 2,
   "metadata": {},
   "outputs": [
    {
     "name": "stdout",
     "output_type": "stream",
     "text": [
      "Found 42798 images belonging to 83 classes.\n"
     ]
    }
   ],
   "source": [
    "train_generator = datagen.flow_from_directory(\n",
    "    directory=r\"./fruits/fruits-360/Training/\",\n",
    "    target_size=(100, 100),\n",
    "    color_mode=\"rgb\",\n",
    "    batch_size=42,\n",
    "    class_mode=\"sparse\",\n",
    "    shuffle=True,\n",
    "    seed=23\n",
    ")\n"
   ]
  },
  {
   "cell_type": "code",
   "execution_count": 3,
   "metadata": {},
   "outputs": [
    {
     "name": "stdout",
     "output_type": "stream",
     "text": [
      "Found 14369 images belonging to 83 classes.\n"
     ]
    }
   ],
   "source": [
    "validate_generator = datagen.flow_from_directory(\n",
    "    directory=r\"./fruits/fruits-360/Test/\",\n",
    "    target_size=(100, 100),\n",
    "    color_mode=\"rgb\",\n",
    "    batch_size=285,\n",
    "    class_mode=\"sparse\",\n",
    "    shuffle=True,\n",
    "    seed=23\n",
    ")"
   ]
  },
  {
   "cell_type": "code",
   "execution_count": null,
   "metadata": {},
   "outputs": [],
   "source": [
    "test_generator = datagen.flow_from_directory(\n",
    "    directory=r\"./fruits/fruits-360/test-multiple_fruits/\",\n",
    "    target_size=(100, 100),\n",
    "    color_mode=\"rgb\",\n",
    "    batch_size=1,\n",
    "    class_mode=\"sparse\",\n",
    "    shuffle=True,\n",
    "    seed=23\n",
    ")"
   ]
  },
  {
   "cell_type": "code",
   "execution_count": 4,
   "metadata": {},
   "outputs": [],
   "source": [
    "import tensorflow as tf\n",
    "\n",
    "n_inputs = 100\n",
    "n_channels = 3\n",
    "n_hidden1 = 1000\n",
    "n_hidden2 = 400\n",
    "n_outputs = 83\n",
    "\n",
    "#create input layer\n",
    "\n",
    "X = tf.placeholder(tf.float32, shape=(None, n_inputs*n_inputs*n_channels), name=\"X\")\n",
    "y = tf.placeholder(tf.int32, shape=(None), name=\"y\")"
   ]
  },
  {
   "cell_type": "code",
   "execution_count": 5,
   "metadata": {},
   "outputs": [],
   "source": [
    "#Use the tensor flow function layers.dense() to create the deep neural network using the ReLU activation function \n",
    "with tf.name_scope(\"dnn\"):\n",
    "    \n",
    "    #create first hidden layer\n",
    "    hidden1 = tf.layers.dense(X, n_hidden1, name=\"hidden1\", activation=tf.nn.relu)\n",
    "    \n",
    "    #create second hidden layer\n",
    "    hidden2 = tf.layers.dense(hidden1, n_hidden2, name=\"hidden2\", activation=tf.nn.relu)\n",
    "    \n",
    "    #create output layer\n",
    "    logits = tf.layers.dense(hidden2, n_outputs, name=\"outputs\")\n",
    "    "
   ]
  },
  {
   "cell_type": "code",
   "execution_count": 6,
   "metadata": {},
   "outputs": [
    {
     "data": {
      "text/plain": [
       "TensorShape([Dimension(None), Dimension(83)])"
      ]
     },
     "execution_count": 6,
     "metadata": {},
     "output_type": "execute_result"
    }
   ],
   "source": [
    "logits.shape"
   ]
  },
  {
   "cell_type": "code",
   "execution_count": 6,
   "metadata": {},
   "outputs": [],
   "source": [
    "#Create the cost function - need to penalize the model if it estimates a low probability for the target class\n",
    "#Use softmax activation and cross entropy on the network before going through the softmax activation function\n",
    "with tf.name_scope(\"loss\"):\n",
    "    \n",
    "    #Use sparse_softmax_cross_entropy_with_logits to handle floating-point rounding errors \n",
    "    #(which can cause logit = 0 or 1) when logits are large \n",
    "    xentropy = tf.nn.sparse_softmax_cross_entropy_with_logits(labels=y, logits=logits)\n",
    "    \n",
    "    #compute the mean cross entropy over all instances\n",
    "    loss = tf.reduce_mean(xentropy, name=\"loss\")\n",
    "    "
   ]
  },
  {
   "cell_type": "code",
   "execution_count": 7,
   "metadata": {},
   "outputs": [],
   "source": [
    "#Next, define a GradientDescentOptimizer that changes the weights to minimize the cost function\n",
    "learning_rate = 0.01\n",
    "with tf.name_scope(\"train\"):\n",
    "    optimizer = tf.train.GradientDescentOptimizer(learning_rate)\n",
    "    training_op = optimizer.minimize(loss)\n",
    "    "
   ]
  },
  {
   "cell_type": "code",
   "execution_count": 8,
   "metadata": {},
   "outputs": [],
   "source": [
    "#Evaluate the model using accuracy\n",
    "with tf.name_scope(\"eval\"):\n",
    "    #correct = tf.nn.in_top_k(tf.reshape(logits, (100*100,83)),y,1)\n",
    "    correct = tf.nn.in_top_k(logits,y,1)\n",
    "    accuracy = tf.reduce_mean(tf.cast(correct, tf.float32))\n",
    "\n",
    "#Create node to initialize all variables\n",
    "init = tf.global_variables_initializer()\n",
    "#Create saver to save model parameters\n",
    "saver = tf.train.Saver()"
   ]
  },
  {
   "cell_type": "code",
   "execution_count": 9,
   "metadata": {},
   "outputs": [],
   "source": [
    "#Defined number of epochs to be run & batch size\n",
    "\n",
    "n_epochs = 50\n",
    "batch_size = 42"
   ]
  },
  {
   "cell_type": "code",
   "execution_count": 16,
   "metadata": {},
   "outputs": [
    {
     "data": {
      "text/plain": [
       "array([[1.       , 1.       , 1.       , ..., 1.       , 1.       ,\n",
       "        1.       ],\n",
       "       [1.       , 1.       , 1.       , ..., 1.       , 1.       ,\n",
       "        1.       ],\n",
       "       [1.       , 1.       , 1.       , ..., 1.       , 1.       ,\n",
       "        1.       ],\n",
       "       ...,\n",
       "       [0.9960785, 1.       , 1.       , ..., 1.       , 1.       ,\n",
       "        1.       ],\n",
       "       [1.       , 1.       , 0.9843138, ..., 1.       , 1.       ,\n",
       "        1.       ],\n",
       "       [1.       , 1.       , 1.       , ..., 1.       , 1.       ,\n",
       "        1.       ]], dtype=float32)"
      ]
     },
     "execution_count": 16,
     "metadata": {},
     "output_type": "execute_result"
    }
   ],
   "source": [
    "temp = X_batch.reshape(42,100*100*3)\n",
    "temp"
   ]
  },
  {
   "cell_type": "code",
   "execution_count": 10,
   "metadata": {},
   "outputs": [
    {
     "name": "stdout",
     "output_type": "stream",
     "text": [
      "0 Train accuracy: 0.97619045 Val accuracy: 0.79298246\n",
      "1 Train accuracy: 0.97619045 Val accuracy: 0.7473684\n",
      "2 Train accuracy: 0.97619045 Val accuracy: 0.9263158\n",
      "3 Train accuracy: 1.0 Val accuracy: 0.9368421\n",
      "4 Train accuracy: 0.95238096 Val accuracy: 0.9403509\n",
      "5 Train accuracy: 1.0 Val accuracy: 0.95438594\n",
      "6 Train accuracy: 0.97619045 Val accuracy: 0.94385964\n",
      "7 Train accuracy: 1.0 Val accuracy: 0.9157895\n",
      "8 Train accuracy: 1.0 Val accuracy: 0.9403509\n",
      "9 Train accuracy: 1.0 Val accuracy: 0.94736844\n",
      "10 Train accuracy: 1.0 Val accuracy: 0.94736844\n",
      "11 Train accuracy: 1.0 Val accuracy: 0.95789474\n",
      "12 Train accuracy: 1.0 Val accuracy: 0.94736844\n",
      "13 Train accuracy: 1.0 Val accuracy: 0.94385964\n",
      "14 Train accuracy: 1.0 Val accuracy: 0.9508772\n",
      "15 Train accuracy: 1.0 Val accuracy: 0.92280704\n",
      "16 Train accuracy: 1.0 Val accuracy: 0.9614035\n",
      "17 Train accuracy: 1.0 Val accuracy: 0.95789474\n",
      "18 Train accuracy: 1.0 Val accuracy: 0.9614035\n",
      "19 Train accuracy: 1.0 Val accuracy: 0.9649123\n",
      "20 Train accuracy: 1.0 Val accuracy: 0.9508772\n",
      "21 Train accuracy: 0.97619045 Val accuracy: 0.95789474\n",
      "22 Train accuracy: 1.0 Val accuracy: 0.94385964\n",
      "23 Train accuracy: 1.0 Val accuracy: 0.94736844\n",
      "24 Train accuracy: 1.0 Val accuracy: 0.95789474\n",
      "25 Train accuracy: 0.97619045 Val accuracy: 0.92280704\n",
      "26 Train accuracy: 1.0 Val accuracy: 0.9508772\n",
      "27 Train accuracy: 1.0 Val accuracy: 0.96842104\n",
      "28 Train accuracy: 1.0 Val accuracy: 0.95789474\n",
      "29 Train accuracy: 1.0 Val accuracy: 0.95789474\n",
      "30 Train accuracy: 1.0 Val accuracy: 0.95789474\n",
      "31 Train accuracy: 1.0 Val accuracy: 0.94385964\n",
      "32 Train accuracy: 1.0 Val accuracy: 0.95438594\n",
      "33 Train accuracy: 1.0 Val accuracy: 0.94385964\n",
      "34 Train accuracy: 1.0 Val accuracy: 0.95438594\n",
      "35 Train accuracy: 1.0 Val accuracy: 0.95789474\n",
      "36 Train accuracy: 1.0 Val accuracy: 0.9157895\n",
      "37 Train accuracy: 1.0 Val accuracy: 0.95789474\n",
      "38 Train accuracy: 0.97619045 Val accuracy: 0.9508772\n",
      "39 Train accuracy: 0.97619045 Val accuracy: 0.94385964\n",
      "40 Train accuracy: 1.0 Val accuracy: 0.9403509\n",
      "41 Train accuracy: 1.0 Val accuracy: 0.94736844\n",
      "42 Train accuracy: 1.0 Val accuracy: 0.9649123\n",
      "43 Train accuracy: 1.0 Val accuracy: 0.9298246\n",
      "44 Train accuracy: 1.0 Val accuracy: 0.9298246\n",
      "45 Train accuracy: 1.0 Val accuracy: 0.94385964\n",
      "46 Train accuracy: 1.0 Val accuracy: 0.94736844\n",
      "47 Train accuracy: 1.0 Val accuracy: 0.9614035\n",
      "48 Train accuracy: 1.0 Val accuracy: 0.94736844\n",
      "49 Train accuracy: 1.0 Val accuracy: 0.9649123\n"
     ]
    }
   ],
   "source": [
    "#Train the model\n",
    "with tf.Session() as sess:\n",
    "    init.run()\n",
    "    for epoch in range(n_epochs):\n",
    "        for iteration in range(42798 // batch_size):\n",
    "            X_batch, y_batch = next(train_generator)\n",
    "            sess.run(training_op, feed_dict={X: X_batch.reshape(batch_size,100*100*3), y: y_batch})\n",
    "        acc_train = accuracy.eval(feed_dict={X: X_batch.reshape(batch_size,100*100*3), y: y_batch})\n",
    "        val_imgs, val_labels = next(validate_generator)\n",
    "        acc_val = accuracy.eval(feed_dict={X: val_imgs.reshape(285,100*100*3),\n",
    "                                           y: val_labels})\n",
    "        print(epoch, \"Train accuracy:\", acc_train, \"Val accuracy:\", acc_val)\n",
    "        \n",
    "    save_path = saver.save(sess, \"./my_model_final.ckpt\")"
   ]
  },
  {
   "cell_type": "code",
   "execution_count": null,
   "metadata": {},
   "outputs": [],
   "source": []
  }
 ],
 "metadata": {
  "kernelspec": {
   "display_name": "Python 3",
   "language": "python",
   "name": "python3"
  },
  "language_info": {
   "codemirror_mode": {
    "name": "ipython",
    "version": 3
   },
   "file_extension": ".py",
   "mimetype": "text/x-python",
   "name": "python",
   "nbconvert_exporter": "python",
   "pygments_lexer": "ipython3",
   "version": "3.6.7"
  }
 },
 "nbformat": 4,
 "nbformat_minor": 2
}
